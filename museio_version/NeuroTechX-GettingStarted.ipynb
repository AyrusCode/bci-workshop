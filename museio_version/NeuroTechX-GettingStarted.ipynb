{
 "metadata": {
  "name": ""
 },
 "nbformat": 3,
 "nbformat_minor": 0,
 "worksheets": [
  {
   "cells": [
    {
     "cell_type": "heading",
     "level": 1,
     "metadata": {},
     "source": [
      "NeuroTechX Workshop\n"
     ]
    },
    {
     "cell_type": "heading",
     "level": 2,
     "metadata": {},
     "source": [
      "So you want to control things with your brain..."
     ]
    },
    {
     "cell_type": "markdown",
     "metadata": {},
     "source": [
      "This ipython notebook is set up so that you will learn to:\n",
      "\n",
      "* Use the MUSE headband to sense electro-encephalography (EEG) signals\n",
      "* Visualize your brainwaves using Python and MatPlotLib\n",
      "* Implement a simple two-state classifier using python \n",
      "\n",
      "These insructions and all of the code are modified from the following [github repository](https://github.com/bcimontreal/bci_workshop/)"
     ]
    },
    {
     "cell_type": "heading",
     "level": 2,
     "metadata": {},
     "source": [
      "Let's get set up"
     ]
    },
    {
     "cell_type": "markdown",
     "metadata": {},
     "source": [
      "You will need to install a few programs in order for this tutorial to run smoothly. If you've made it this far, it means you've already installed the first dependency:"
     ]
    },
    {
     "cell_type": "heading",
     "level": 3,
     "metadata": {},
     "source": [
      "1. IPython Notebook"
     ]
    },
    {
     "cell_type": "markdown",
     "metadata": {},
     "source": [
      "IPython notebooks are a great way to go through tutorials. They let you try things out in an interactive python environment that is inline with the instructions.\n",
      "\n",
      "To try it, just select the cell below and hit the \"Run Cell\" button at the top of the screen (or hit Shift + Enter)"
     ]
    },
    {
     "cell_type": "code",
     "collapsed": false,
     "input": [
      "1 + 3"
     ],
     "language": "python",
     "metadata": {},
     "outputs": []
    },
    {
     "cell_type": "markdown",
     "metadata": {},
     "source": [
      "Every time you see a cell that looks similar to that, it means you can run the code contained within it. Neat, eh? Now for the rest of the dependencies..."
     ]
    },
    {
     "cell_type": "heading",
     "level": 3,
     "metadata": {},
     "source": [
      "2. Python 2.7 and Packages"
     ]
    },
    {
     "cell_type": "markdown",
     "metadata": {},
     "source": [
      "Python is up to version 3 now, but there are some differences that may prevent the tutorial code from running properly. In order to make sure everything runs as smoothly as possible, please make sure to install Python 2.7. The best way to install Python 2.7 and the necessary packages is to install the [Anacondas distribution](http://docs.continuum.io/anaconda/install). You can follow the instructions listed there, and then jump back to this tutorial"
     ]
    },
    {
     "cell_type": "markdown",
     "metadata": {},
     "source": [
      "A few Python packages are integral to building BCI applications, and they come bundled with Python 2.7 in the anacondas install. However, if you already have python and you want to install them manually, make sure you get all of the following: \n",
      "\n",
      "* [NumPy](http://www.numpy.org/) : Used for scientific computing\n",
      "* [MatPlotLib](http://matplotlib.org/) : Used for graphing\n",
      "* [SciKit Learn](http://scikit-learn.org/stable/) : Used for machine learning\n",
      "* [pyZMQ](https://pyzmq.readthedocs.org/en/latest/): Used for communcation between programs\n",
      "\n",
      "Even if you use anacondas, you will still need to install a couple of packages manually. The best way to install packages manually is by running the command \"pip install &lt;package_name&gt;\" in command line. pip is python's way of installing packages. You can read more about it [here](http://pip.readthedocs.org/en/stable/installing/).  \n",
      "\n",
      "However, a few packages still need to be installed, and shouldn't be installed using pip. \n",
      "\n",
      "* [pygame](http://www.pygame.org/download.shtml): Used to play sound\n",
      "* [pyOSC](https://trac.v2.nl/wiki/pyOSC) : Used to read OSC data streams (like the data from Muse-io)\n",
      "\n",
      "Installing pygame works a little bit differently depending on your operating system. All of the instructions are available on the [pygame downloads page](http://www.pygame.org/download.shtml), but I'll summarize below \n",
      "\n",
      "* If you are running Ubuntu, Mint, or Debian linux: run \"sudo apt-get install python-pygame\" in command line\n",
      "* If you are running MacOSX: download the first \".dmg\" file and run it\n",
      "* If you are running windows: download the first \".exe\" file and run it\n",
      "\n",
      "pyOSC also needs to be installed manually, but again - don't use pip! pip will install a version of pyOSC that is only compatible with Python3. We need the one that's compatible with Python2.7. To install a version that will work with this tutorial, you need to do the following. \n",
      "\n",
      "1. Download [pyOSC](https://trac.v2.nl/wiki/pyOSC). You need either the \".tar.gz\" file or the \".zip\". Either one is fine, but if you're working in windows the \".zip\" will be easier to work with. \n",
      "\n",
      "2. Extract the file you just downloaded. Now that file is a folder! Navigate to that folder.\n",
      "\n",
      "3. Run \"setup.py install\" \n",
      "  1. If you are in Linux or OSX, you can do this in the command line by running \"sudo python setup.py install\". Sudo is equivalent to Windows' \"run as administrator\" prompt. You will have to input your password.  \n",
      "  2. If you are in Windows, go to command prompt and run \"python setup.py install\"\n",
      "\n"
     ]
    },
    {
     "cell_type": "code",
     "collapsed": false,
     "input": [
      "installed = ''\n",
      "while installed is not 'y':\n",
      "    \n",
      "    installed = raw_input(\"Have you installed Python and packages (y/n)?\")\n",
      "    \n",
      "    if installed is 'y':\n",
      "        break\n",
      "    elif installed is 'n':\n",
      "        print \"Well what are you waiting for?\"\n",
      "    else:\n",
      "        print \"Ok. I can see following instructions is going to be difficult. I said y/n!!\"\n",
      "\n",
      "print \"Yay! Let's keep going\"\n"
     ],
     "language": "python",
     "metadata": {},
     "outputs": []
    },
    {
     "cell_type": "markdown",
     "metadata": {},
     "source": [
      "To make sure that python and all the necessary packages were installed correctly, we're going to import them to this ipython environment. Importing packages lets you use all of the functions contained within them. You can also create simplified names for the packages as you import them so that you don't have to type out long names over and over again, or import specific funtions from the packages to avoid typing the package name all together.  "
     ]
    },
    {
     "cell_type": "code",
     "collapsed": false,
     "input": [
      "import numpy as np # Module that simplifies computations on matrices \n",
      "import matplotlib.pyplot as plt # Module used for plotting\n",
      "import pygame # Module that allows you to play sound\n",
      "\n",
      "from sklearn import svm\n",
      "from OSC import *"
     ],
     "language": "python",
     "metadata": {},
     "outputs": [],
     "prompt_number": 1
    },
    {
     "cell_type": "markdown",
     "metadata": {},
     "source": [
      "In python, you can also create and import your own functions. The NeuroTechX team has created several functions that are necessary for the rest of this workshop. To import them, make sure you are currently in \"bci_workshop/muse-io_version\" folder.  "
     ]
    },
    {
     "cell_type": "code",
     "collapsed": false,
     "input": [
      "cd #replace this comment with the full path to bci_workshop/muse-io_version "
     ],
     "language": "python",
     "metadata": {},
     "outputs": []
    },
    {
     "cell_type": "code",
     "collapsed": false,
     "input": [
      "import muse_server_pyosc as museosc #Functions necessary for working with Muse/OSC\n",
      "import bci_workshop_tools as BCIw #Functions necessary for certain aspects of this tutorial "
     ],
     "language": "python",
     "metadata": {},
     "outputs": [],
     "prompt_number": 2
    },
    {
     "cell_type": "markdown",
     "metadata": {},
     "source": [
      "If any of the \"import\" cells gave you an error, retrace your steps and make sure that you have installed all of the packages, that you installed the correct package for your operating system, and that you are in the correct folder. \n",
      "\n",
      "If you still get errors. Try looking them up on the internet! Make sure you include as many details as possible. For example, consider including...\n",
      "* Your operating system\n",
      "* The fact that you're using IPython Notebook\n",
      "* Your python version number\n",
      "* Your function version number\n",
      "* Your computer model \n",
      "\n",
      "If you're still getting errors you can create a bug report on github or, if you don't know how, just email me (melanie@neurotechx.com)"
     ]
    },
    {
     "cell_type": "heading",
     "level": 3,
     "metadata": {},
     "source": [
      "3. Muse SDK"
     ]
    },
    {
     "cell_type": "markdown",
     "metadata": {},
     "source": [
      "This workshop is based on the Muse EEG headband. The Muse provides 4 EEG dry sensors located on the forehead and behind the ears. It communicates via Bluetooth to a computer or a mobile device. An SDK is available to allow basic control over the Muse's recording capabilities.\n",
      "\n",
      "For the next part of this tutorial, you will be following the [Muse Getting Started Guide](http://developer.choosemuse.com/research-tools/getting-started).\n",
      "\n",
      "Make sure you download and install the research tools for your operating system. Download the installer using the dropdown menu located at the top of the Research Tools|Getting Started page, and execute the program once it has finished downloading.\n",
      "\n",
      "Follow Steps 1-7 of the getting started guide, and jump back to this tutorial once you have accomplished the following:\n",
      "\n",
      "* You are wearing the Muse headband\n",
      "* You have paired the Muse headband to your laptop via bluetooth\n",
      "* You have successefully started MuseIO\n",
      "* You have visualized some brain data using MuseLab\n",
      "\n",
      "Congratulations! Doesn't it feel neat to look at brainwaves?\n"
     ]
    },
    {
     "cell_type": "code",
     "collapsed": false,
     "input": [
      "print '%s' %'Yes!'"
     ],
     "language": "python",
     "metadata": {},
     "outputs": [
      {
       "output_type": "stream",
       "stream": "stdout",
       "text": [
        "Yes!\n"
       ]
      }
     ],
     "prompt_number": 12
    },
    {
     "cell_type": "heading",
     "level": 2,
     "metadata": {},
     "source": [
      "You have now completed the \"Getting Started\" Notebook. Time to move on to Exercise 1!"
     ]
    }
   ],
   "metadata": {}
  }
 ]
}