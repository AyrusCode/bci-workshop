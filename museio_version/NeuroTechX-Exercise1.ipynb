{
 "metadata": {
  "name": ""
 },
 "nbformat": 3,
 "nbformat_minor": 0,
 "worksheets": [
  {
   "cells": [
    {
     "cell_type": "heading",
     "level": 1,
     "metadata": {},
     "source": [
      "Exercise 1: A simple neurofeedback interface"
     ]
    },
    {
     "cell_type": "markdown",
     "metadata": {},
     "source": [
      "In this exercise, you will learn how to visualize the brainwaves (technically called Electroencephalography signals, or EEG signals for short) using a python interface. It won't be nearly as fancy as MuseLab, but it will give you the same information. The fact that you are able to look at your own brainwaves means that you have created a \"Neurofeedback Interface.\" This is the simplest form of a brain computer interface! You have created a way to get feedback about what your brain is doing. You can then use this feedback to learn how to alter what your brain is doing. This is the basis of \"Neurofeedback Therapy,\" which can be used to help with things like Attention Defecit Hyperactivity Disorder (ADHD), Anxiety, Pain, etc. \n",
      "\n",
      "<b>Important notes:</b> \n",
      "* It takes (much) more than this tutorial to be able to treat someone using neurofeedback therapy. If you're interested in Neurofeedback therapy, great! Talk to a doctor about it, please :-) \n",
      "\n",
      "* There's going to be a lot of python code in this section. Don't worry! You don't have to read it. If you want to jump to the results, you can run the cells and ignore what's inside of them. That being said, I'm going to encourage you to try making sense of as much of it as you can!"
     ]
    },
    {
     "cell_type": "heading",
     "level": 2,
     "metadata": {},
     "source": [
      "Step 1: Import Functions"
     ]
    },
    {
     "cell_type": "markdown",
     "metadata": {},
     "source": [
      "In the Getting Started notebook, we learned how to import functions. If you don't know what that means, you should take this opportunity to go back to the getting started guide. \n",
      "\n",
      "Remember: for the imports to work properly, make sure you are in the bci_workshop/museio-version folder"
     ]
    },
    {
     "cell_type": "code",
     "collapsed": false,
     "input": [
      "import numpy as np # Module that simplifies computations on matrices \n",
      "import matplotlib.pyplot as plt \n",
      "import muse_server_pyosc as museosc\n",
      "import bci_workshop_tools as BCIw"
     ],
     "language": "python",
     "metadata": {},
     "outputs": [],
     "prompt_number": 2
    },
    {
     "cell_type": "heading",
     "level": 2,
     "metadata": {},
     "source": [
      "Step 2: Start Streaming Data from the Muse Headset"
     ]
    },
    {
     "cell_type": "markdown",
     "metadata": {},
     "source": [
      "1. Turn your muse on\n",
      "2. Make sure it is paired\n",
      "3. Put it on your head \n",
      "4. Start Muse-io. \n",
      "\n",
      "If you haven't done those things before, you can refer back to the Getting Started notebook, or follow the steps on the [Muse website](http://developer.choosemuse.com/research-tools/getting-started)"
     ]
    },
    {
     "cell_type": "heading",
     "level": 2,
     "metadata": {},
     "source": [
      "Step 3: Start using data in Python"
     ]
    },
    {
     "cell_type": "code",
     "collapsed": false,
     "input": [
      "# Connection parameters    \n",
      "muse_port = 5000"
     ],
     "language": "python",
     "metadata": {},
     "outputs": []
    },
    {
     "cell_type": "markdown",
     "metadata": {},
     "source": [
      "In order for python to read data from Muse-io, it needs to know where to look. When you start Muse-io, you specify a \"Port.\" The default port is 5000. You can change this if you want to, but you need to make sure the Muse-io port matches the \"muse_port\" variable in python. \n",
      "\n",
      "This can be useful if you want to connect multiple muse headsets to the same computer. You just have to make sure each muse has it's own port. "
     ]
    },
    {
     "cell_type": "code",
     "collapsed": false,
     "input": [
      "# Create a Muse OSC server\n",
      "muse_server = museosc.MuseServer(muse_port) \n",
      "params = museosc.getparams() # Get the device parameters   "
     ],
     "language": "python",
     "metadata": {},
     "outputs": []
    },
    {
     "cell_type": "markdown",
     "metadata": {},
     "source": [
      "I'm not sure what that does. I'll get back to it. "
     ]
    },
    {
     "cell_type": "code",
     "collapsed": false,
     "input": [
      "eeg_buffer_secs = 15  # Size of the EEG data buffer used for plotting the data"
     ],
     "language": "python",
     "metadata": {},
     "outputs": []
    },
    {
     "cell_type": "markdown",
     "metadata": {},
     "source": [
      "This exercise takes a data \"buffer\" and plots it to the screen. The default buffer size is 15 seconds, but you can play around with this as much as you'd like. "
     ]
    },
    {
     "cell_type": "code",
     "collapsed": false,
     "input": [
      "win_test_secs = 1     # Length of the window used for computing the features "
     ],
     "language": "python",
     "metadata": {},
     "outputs": []
    },
    {
     "cell_type": "markdown",
     "metadata": {},
     "source": [
      "The window length changes the amount of data that is used to compute features. Features are the different components of the raw EEG data that carry information about your brain state. For instance the \"Alpha\" band carries information about mental relaxation, and the \"Beta\" band carries information about alertness. "
     ]
    },
    {
     "cell_type": "code",
     "collapsed": false,
     "input": [
      "overlap_secs = 0.5    # Overlap between two consecutive windows (in seconds)\n",
      "shift_secs = win_test_secs - overlap_secs"
     ],
     "language": "python",
     "metadata": {},
     "outputs": []
    },
    {
     "cell_type": "markdown",
     "metadata": {},
     "source": [
      "The overlap between two windows affects how smooth the extracted features will look when you visualize them. If you have no overlap, you could get jumps in brainstate from one second to the next. If you have too much overlap, you could see no change at all. \n",
      "\n",
      "To move the test window by the correct amount, you have to look at the difference betweeen the test window and the degree of overlap. This technique is similar across signal processing domains including audio pitch extraction, and light spectrum analysis. "
     ]
    },
    {
     "cell_type": "code",
     "collapsed": false,
     "input": [
      "index_channel = 0     # Index of the channel to be used (0 to 3)\n",
      "params['names of channels'] = ['CH1','STATUS'] # This line changes params to work with only one electrode"
     ],
     "language": "python",
     "metadata": {},
     "outputs": []
    },
    {
     "cell_type": "markdown",
     "metadata": {},
     "source": [
      "This exercise only takes one EEG channel into consideration (remember that the Muse headband has 4). You can try different channels to see how the output changes or, if you're feeling adventurous, try expanding the code to read signals from multiple channels. "
     ]
    },
    {
     "cell_type": "code",
     "collapsed": false,
     "input": [
      "names_of_features = BCIw.feature_names(params['names of channels']) # Get name of features"
     ],
     "language": "python",
     "metadata": {},
     "outputs": []
    },
    {
     "cell_type": "markdown",
     "metadata": {},
     "source": [
      "TODO"
     ]
    },
    {
     "cell_type": "code",
     "collapsed": true,
     "input": [
      "# Initialize raw EEG data buffer (for plotting)\n",
      "eeg_buffer = np.zeros((params['sampling frequency']*eeg_buffer_secs, \n",
      "                       len(params['names of channels']))) "
     ],
     "language": "python",
     "metadata": {},
     "outputs": []
    },
    {
     "cell_type": "code",
     "collapsed": false,
     "input": [
      "# Compute the number of windows in \"eeg_buffer_secs\" (used for plotting)\n",
      "n_win_test = int(np.floor((eeg_buffer_secs - win_test_secs) / float(shift_secs) + 1))"
     ],
     "language": "python",
     "metadata": {},
     "outputs": []
    },
    {
     "cell_type": "code",
     "collapsed": false,
     "input": [
      "# Initialize the feature data buffer (for plotting)\n",
      "feat_buffer = np.zeros((n_win_test, len(names_of_features)))"
     ],
     "language": "python",
     "metadata": {},
     "outputs": []
    },
    {
     "cell_type": "code",
     "collapsed": false,
     "input": [
      "# Initialize the plots\n",
      "plotter_eeg = BCIw.dataPlotter(params['sampling frequency']*eeg_buffer_secs,\n",
      "                               params['names of channels'],\n",
      "                               params['sampling frequency'])\n",
      "\n",
      "plotter_feat = BCIw.dataPlotter(n_win_test,\n",
      "                                names_of_features,\n",
      "                                1/float(shift_secs))"
     ],
     "language": "python",
     "metadata": {},
     "outputs": []
    },
    {
     "cell_type": "markdown",
     "metadata": {},
     "source": [
      "TODO \n",
      "Initialize the buffers for storing raw EEG and features\n"
     ]
    },
    {
     "cell_type": "code",
     "collapsed": false,
     "input": [
      "while True:    \n",
      "    \n",
      "    \"\"\" 1- ACQUIRE DATA \"\"\"\n",
      "    eeg_data = museosc.getdata(shift_secs, False) # Obtain EEG data from Muse \n",
      "    eeg_data = eeg_data[:,[index_channel ,-1]] # Keep only one electrode (and the STATUS channel) for further analysis      \n",
      "    eeg_buffer = BCIw.updatebuffer(eeg_buffer, eeg_data) # Update EEG buffer\n",
      "        \n",
      "    \"\"\" 2- COMPUTE FEATURES \"\"\"\n",
      "    # Get newest samples from the buffer \n",
      "    data_window = BCIw.getlastdata(eeg_buffer, win_test_secs * params['sampling frequency'])\n",
      "        \n",
      "    # Compute features on \"data_window\" \n",
      "    feat_vector = BCIw.compute_feature_vector(data_window, params['sampling frequency'])\n",
      "    feat_buffer = BCIw.updatebuffer(feat_buffer, np.asarray([feat_vector])) # Update the feature buffer\n",
      "        \n",
      "    \"\"\" 3- VISUALIZE THE RAW EEG AND THE FEATURES \"\"\"       \n",
      "    plotter_eeg.updatePlot(eeg_buffer) # Plot EEG buffer     \n",
      "    plotter_feat.updatePlot((feat_buffer)) # Plot the feature buffer \n",
      "        \n",
      "    plt.pause(0.001)"
     ],
     "language": "python",
     "metadata": {},
     "outputs": []
    },
    {
     "cell_type": "code",
     "collapsed": false,
     "input": [],
     "language": "python",
     "metadata": {},
     "outputs": []
    }
   ],
   "metadata": {}
  }
 ]
}