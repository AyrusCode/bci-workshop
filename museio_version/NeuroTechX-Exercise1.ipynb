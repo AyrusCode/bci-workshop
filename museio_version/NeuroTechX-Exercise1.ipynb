{
 "metadata": {
  "name": ""
 },
 "nbformat": 3,
 "nbformat_minor": 0,
 "worksheets": [
  {
   "cells": [
    {
     "cell_type": "heading",
     "level": 1,
     "metadata": {},
     "source": [
      "Exercise 1: A simple neurofeedback interface"
     ]
    },
    {
     "cell_type": "markdown",
     "metadata": {},
     "source": [
      "In this exercise, you will learn how to visualize the brainwaves (technically called Electroencephalography signals, or EEG signals for short) using a python interface. It won't be nearly as fancy as MuseLab, but it will give you the same information. The fact that you are able to look at your own brainwaves means that you have created a \"Neurofeedback Interface.\" This is the simplest form of a brain computer interface! You have created a way to get feedback about what your brain is doing. You can then use this feedback to learn how to alter your brain is doing. This is the basis of \"Neurofeedback Therapy,\" which can be used to help with things like Attention Defecit Hyperactivity Disorder (ADHD), Anxiety, Pain, etc. \n",
      "\n",
      "<b>Important notes:</b> \n",
      "* It takes (much) more than this tutorial to be able to treat someone using neurofeedback therapy. If you're interested in Neurofeedback therapy, great! Talk to a doctor about it, please :-) \n",
      "\n",
      "* There's going to be a lot of python code in this section. Don't worry! You don't have to read it. If you want to jump to the results, you can run the cells and ignore what's inside of them. That being said, I'm going to encourage you to try making sense of as much of it as you can!"
     ]
    },
    {
     "cell_type": "heading",
     "level": 2,
     "metadata": {},
     "source": [
      "Step 1: Import Functions"
     ]
    },
    {
     "cell_type": "markdown",
     "metadata": {},
     "source": [
      "In the Getting Started notebook, we learned how to import functions. If you don't know what that means, you should take this opportunity to go back to the getting started guide. \n",
      "\n",
      "Remember: for the imports to work properly, make sure you are in the bci_workshop/museio-version folder"
     ]
    },
    {
     "cell_type": "code",
     "collapsed": false,
     "input": [
      "import numpy as np # Module that simplifies computations on matrices \n",
      "import matplotlib.pyplot as plt #Y"
     ],
     "language": "python",
     "metadata": {},
     "outputs": []
    },
    {
     "cell_type": "heading",
     "level": 2,
     "metadata": {},
     "source": [
      "Step 2: Start Streaming Data from the Muse Headset"
     ]
    },
    {
     "cell_type": "markdown",
     "metadata": {},
     "source": [
      "1. Turn your muse on\n",
      "2. Make sure it is paired\n",
      "3. Put it on your head \n",
      "4. Start Muse-io. \n",
      "\n",
      "If you haven't done those things before, you can refer back to the Getting Started notebook, or follow the steps on the [Muse website](http://developer.choosemuse.com/research-tools/getting-started)"
     ]
    },
    {
     "cell_type": "heading",
     "level": 2,
     "metadata": {},
     "source": [
      "Step 3: Start using data in Python"
     ]
    },
    {
     "cell_type": "code",
     "collapsed": false,
     "input": [
      "# Connection parameters    \n",
      "muse_port = 5000"
     ],
     "language": "python",
     "metadata": {},
     "outputs": []
    },
    {
     "cell_type": "markdown",
     "metadata": {},
     "source": [
      "In order for python to read data from Muse-io, it needs to know where to look. When you start Muse-io, you specify a \"Port.\" The default port is 5000. You can change this if you want to, but you need to make sure the Muse-io port matches the \"muse_port\" variable in python. \n",
      "\n",
      "This can be useful if you want to connect multiple muse headsets to the same computer. You just have to make sure each muse has it's own port. "
     ]
    },
    {
     "cell_type": "code",
     "collapsed": false,
     "input": [
      "# Create a Muse OSC server\n",
      "muse_server = museosc.MuseServer(muse_port) \n",
      "params = museosc.getparams() # Get the device parameters   "
     ],
     "language": "python",
     "metadata": {},
     "outputs": []
    },
    {
     "cell_type": "markdown",
     "metadata": {},
     "source": [
      "I'm not sure what that does. I'll get back to it. "
     ]
    },
    {
     "cell_type": "code",
     "collapsed": false,
     "input": [
      "eeg_buffer_secs = 15  # Size of the EEG data buffer used for plotting the data"
     ],
     "language": "python",
     "metadata": {},
     "outputs": [],
     "prompt_number": 1
    },
    {
     "cell_type": "markdown",
     "metadata": {},
     "source": [
      "This exercise takes a data \"buffer\" and plots it to the screen. The default buffer size is 15 seconds, but you can play around with this as much as you'd like. "
     ]
    },
    {
     "cell_type": "code",
     "collapsed": false,
     "input": [
      "win_test_secs = 1     # Length of the window used for computing the features "
     ],
     "language": "python",
     "metadata": {},
     "outputs": []
    },
    {
     "cell_type": "code",
     "collapsed": false,
     "input": [
      "overlap_secs = 0.5    # Overlap between two consecutive windows (in seconds)"
     ],
     "language": "python",
     "metadata": {},
     "outputs": []
    },
    {
     "cell_type": "code",
     "collapsed": false,
     "input": [
      "shift_secs = win_test_secs - overlap_secs"
     ],
     "language": "python",
     "metadata": {},
     "outputs": []
    },
    {
     "cell_type": "code",
     "collapsed": false,
     "input": [
      "index_channel = 0     # Index of the channel to be used (0 to 3)"
     ],
     "language": "python",
     "metadata": {},
     "outputs": []
    }
   ],
   "metadata": {}
  }
 ]
}